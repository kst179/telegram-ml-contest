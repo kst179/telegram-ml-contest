{
 "cells": [
  {
   "cell_type": "code",
   "execution_count": 2,
   "metadata": {},
   "outputs": [],
   "source": [
    "from pathlib import Path\n",
    "import shutil\n",
    "import hashlib\n"
   ]
  },
  {
   "cell_type": "code",
   "execution_count": null,
   "metadata": {},
   "outputs": [],
   "source": [
    "\n",
    "for file in Path(\"../telegram-ml-contest-data/github_data/\").glob(\"*/*\"):\n",
    "    sha = hashlib.sha1(file.read_bytes()).hexdigest()\n",
    "    new_file = file.parent / f\"{sha}{file.suffix}\"\n",
    "    shutil.move(file, new_file)"
   ]
  },
  {
   "cell_type": "code",
   "execution_count": 49,
   "metadata": {},
   "outputs": [],
   "source": [
    "from languages_list import Languages\n",
    "\n",
    "dataset = Path(\"../telegram-ml-contest-data/files/\")\n",
    "\n",
    "for file in Path(\"../telegram-ml-contest-data/github_data\").glob(\"*/*\"):\n",
    "    lang = file.parent.name\n",
    "\n",
    "    new_file = dataset / lang / file.name\n",
    "    new_file.parent.mkdir(exist_ok=True)\n",
    "    shutil.move(file, new_file)"
   ]
  },
  {
   "cell_type": "code",
   "execution_count": 48,
   "metadata": {},
   "outputs": [
    {
     "data": {
      "text/plain": [
       "PosixPath('../telegram-ml-contest-data/files/PowerShell/4fdca8cd-d1a9-4a89-b40f-6827b8be416f.ps1')"
      ]
     },
     "execution_count": 48,
     "metadata": {},
     "output_type": "execute_result"
    }
   ],
   "source": [
    "new_file"
   ]
  },
  {
   "cell_type": "code",
   "execution_count": 39,
   "metadata": {},
   "outputs": [
    {
     "data": {
      "text/plain": [
       "(PosixPath('../telegram-ml-contest-data/gltool_data/PowerShell/4fdca8cd-d1a9-4a89-b40f-6827b8be416f.ps1'),\n",
       " PosixPath('../telegram-ml-contest-data/github_data/PowerShell/4fdca8cd-d1a9-4a89-b40f-6827b8be416f.ps1'))"
      ]
     },
     "execution_count": 39,
     "metadata": {},
     "output_type": "execute_result"
    }
   ],
   "source": [
    "file, new_file"
   ]
  },
  {
   "cell_type": "code",
   "execution_count": 19,
   "metadata": {},
   "outputs": [
    {
     "data": {
      "text/plain": [
       "<Languages.INI: 48>"
      ]
     },
     "execution_count": 19,
     "metadata": {},
     "output_type": "execute_result"
    }
   ],
   "source": [
    "Languages.from_suffix(file.suffix)"
   ]
  },
  {
   "cell_type": "code",
   "execution_count": 44,
   "metadata": {},
   "outputs": [
    {
     "name": "stdout",
     "output_type": "stream",
     "text": [
      "\u001b[0;31mType:\u001b[0m        module\n",
      "\u001b[0;31mString form:\u001b[0m <module 'orjson' from '/home/kst179/.local/lib/python3.10/site-packages/orjson/__init__.py'>\n",
      "\u001b[0;31mFile:\u001b[0m        ~/.local/lib/python3.10/site-packages/orjson/__init__.py\n",
      "\u001b[0;31mDocstring:\u001b[0m   <no docstring>\n"
     ]
    }
   ],
   "source": []
  },
  {
   "cell_type": "code",
   "execution_count": 10,
   "metadata": {},
   "outputs": [],
   "source": [
    "quarantine = Path(\"../telegram-ml-contest-data/quarantine/\")\n",
    "\n",
    "for file in Path(\"../telegram-ml-contest-data/files/\").glob(\"*/*\"):    \n",
    "    try:\n",
    "        string = file.read_text()\n",
    "    except Exception:\n",
    "        new_file = quarantine / file.parent.name / file.name\n",
    "        new_file.parent.mkdir(exist_ok=True, parents=True)\n",
    "        shutil.move(file, new_file)"
   ]
  },
  {
   "cell_type": "code",
   "execution_count": 8,
   "metadata": {},
   "outputs": [
    {
     "data": {
      "text/plain": [
       "PosixPath('../telegram-ml-contest-data/quarantine/FIFT/23c399ab4378b72841fcd4f873176d44e87daf9b.fif')"
      ]
     },
     "execution_count": 8,
     "metadata": {},
     "output_type": "execute_result"
    }
   ],
   "source": [
    "new_file"
   ]
  },
  {
   "cell_type": "code",
   "execution_count": 55,
   "metadata": {},
   "outputs": [],
   "source": [
    "import json\n",
    "\n",
    "with open(\"./data/repos.json\") as file:\n",
    "    repos1 = json.load(file)\n",
    "\n",
    "with open(\"../telegram-ml-contest-data/repos2.json\") as file:\n",
    "    repos2 = json.load(file)"
   ]
  },
  {
   "cell_type": "code",
   "execution_count": 60,
   "metadata": {},
   "outputs": [
    {
     "data": {
      "text/plain": [
       "dict_keys(['FIFT', 'OpenEdgeABL', 'Lisp', 'PLSQL', 'F#', 'Solidity', 'Icon', 'FunC', 'C#', 'CommonLisp', 'C++', 'Keyman', 'Logo', '1C Enterprise', 'APEX', 'Bison', 'Protobuf', 'Smalltalk', 'Ada', 'ActionScript', 'ASP', 'Delphi', 'Pascal', 'AWK', 'D', 'Forth', 'Scheme', 'IDL', 'Basic', 'Tcl', 'Wolfram', 'QML', 'GraphQL', 'AutoHotKey', 'Raku', 'AppleScript', 'Vala', 'Elm', 'NGINX', 'Textile', 'Gradle', 'UnrealScript', 'Regex', 'Hack', 'Crystal', 'SAS', 'Nim', 'GAMS', 'ABAP'])"
      ]
     },
     "execution_count": 60,
     "metadata": {},
     "output_type": "execute_result"
    }
   ],
   "source": [
    "repos1.keys()"
   ]
  },
  {
   "cell_type": "code",
   "execution_count": 62,
   "metadata": {},
   "outputs": [],
   "source": [
    "import numpy as np\n",
    "repos = {}\n",
    "\n",
    "for lang, items in repos1.items():\n",
    "    repos[lang] = np.unique(items).tolist()"
   ]
  },
  {
   "cell_type": "code",
   "execution_count": 66,
   "metadata": {},
   "outputs": [],
   "source": [
    "with open(\"../telegram-ml-contest-data/repos.json\", \"w\", encoding=\"utf8\") as file:\n",
    "    json.dump(repos, file, indent=4, ensure_ascii=False)"
   ]
  },
  {
   "cell_type": "code",
   "execution_count": 65,
   "metadata": {},
   "outputs": [
    {
     "name": "stdout",
     "output_type": "stream",
     "text": [
      "FIFT 93\n",
      "OpenEdgeABL 715\n",
      "Lisp 1631\n",
      "PLSQL 670\n",
      "F# 737\n",
      "Solidity 534\n",
      "Icon 15\n",
      "FunC 69\n",
      "C# 735\n",
      "CommonLisp 772\n",
      "C++ 390\n",
      "Keyman 65\n",
      "Logo 681\n",
      "1C Enterprise 391\n",
      "APEX 701\n",
      "Bison 192\n",
      "Protobuf 981\n",
      "Smalltalk 1000\n",
      "Ada 997\n",
      "ActionScript 1000\n",
      "ASP 999\n",
      "Delphi 999\n",
      "Pascal 998\n",
      "AWK 1000\n",
      "D 1000\n",
      "Forth 997\n",
      "Scheme 999\n",
      "IDL 996\n",
      "Basic 995\n",
      "Tcl 999\n",
      "Wolfram 999\n",
      "QML 1000\n",
      "GraphQL 4\n",
      "AutoHotKey 1000\n",
      "Raku 997\n",
      "AppleScript 997\n",
      "Vala 1000\n",
      "Elm 999\n",
      "NGINX 999\n",
      "Textile 2\n",
      "Gradle 8\n",
      "UnrealScript 995\n",
      "Regex 1\n",
      "Hack 1000\n",
      "Crystal 1000\n",
      "SAS 997\n",
      "Nim 1000\n",
      "GAMS 942\n",
      "ABAP 997\n"
     ]
    }
   ],
   "source": [
    "for lang, items in repos.items():\n",
    "    print(lang, len(items))"
   ]
  }
 ],
 "metadata": {
  "kernelspec": {
   "display_name": "Python 3",
   "language": "python",
   "name": "python3"
  },
  "language_info": {
   "codemirror_mode": {
    "name": "ipython",
    "version": 3
   },
   "file_extension": ".py",
   "mimetype": "text/x-python",
   "name": "python",
   "nbconvert_exporter": "python",
   "pygments_lexer": "ipython3",
   "version": "3.10.12"
  }
 },
 "nbformat": 4,
 "nbformat_minor": 2
}
