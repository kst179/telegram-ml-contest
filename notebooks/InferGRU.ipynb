{
 "cells": [
  {
   "cell_type": "code",
   "execution_count": 3,
   "metadata": {},
   "outputs": [],
   "source": [
    "from cgru import CGRU\n",
    "\n",
    "from itertools import chain\n",
    "from pathlib import Path\n",
    "import torch\n",
    "from torch import nn\n",
    "from torch.utils.data.dataloader import DataLoader\n",
    "\n",
    "from tokenizers import ByteLevelBPETokenizer\n",
    "\n",
    "import numpy as np\n",
    "\n",
    "from languages_list import Languages\n",
    "\n",
    "from gh_dataset import MixedDataset, Subset\n",
    "from matplotlib import pyplot as plt\n",
    "\n",
    "from tqdm.notebook import tqdm\n",
    "import pickle\n",
    "\n",
    "from sklearn.model_selection import train_test_split\n",
    "from scipy.sparse import csr_array, load_npz, save_npz\n",
    "\n",
    "tokenizer = ByteLevelBPETokenizer(\"./artifacts/tokenizer-vocab.json\", \"./artifacts/tokenizer-merges.txt\")\n",
    "\n",
    "with open(\"artifacts/folds.pkl\", \"rb\") as file:\n",
    "   fold0, fold1, fold2, fold3 = pickle.load(file)"
   ]
  },
  {
   "cell_type": "code",
   "execution_count": null,
   "metadata": {},
   "outputs": [],
   "source": []
  },
  {
   "cell_type": "code",
   "execution_count": 2,
   "metadata": {},
   "outputs": [],
   "source": [
    "dataset = MixedDataset(tokenize=True, subsample_lines=True)"
   ]
  },
  {
   "cell_type": "code",
   "execution_count": 42,
   "metadata": {},
   "outputs": [],
   "source": [
    "gru = CGRU()\n",
    "\n",
    "val_data = Subset(dataset, fold0)\n",
    "test_data = Subset(dataset, fold2)\n",
    "\n",
    "class Batch(dict):\n",
    "    def __init__(self, dict):\n",
    "        self.update(dict)\n",
    "\n",
    "    def to(self, device):\n",
    "        items = []\n",
    "        for k, v in self.items():\n",
    "            if isinstance(v, torch.Tensor):\n",
    "                items.append((k, v.to(device)))\n",
    "\n",
    "        for k, v in items:\n",
    "            self[k] = v\n",
    "\n",
    "        return self\n",
    "\n",
    "pad_token = tokenizer.token_to_id(\"<pad>\")\n",
    "max_seq_len = 8192\n",
    "\n",
    "def collate_fn(batch):\n",
    "    ids, labels = zip(*batch)\n",
    "    \n",
    "    max_len = max(len(i) for i in ids)\n",
    "    max_len = min(max_len, max_seq_len)\n",
    "    max_len = (max_len + 15) // 16 * 16\n",
    "\n",
    "    ids = torch.tensor([\n",
    "        i[:max_len] + [pad_token for j in range(max_len - len(i))]\n",
    "        for i in ids\n",
    "    ])\n",
    "    mask = ids != pad_token\n",
    "    last_element = mask.sum(dim=1) - 1\n",
    "    labels = torch.tensor([label.value - 1 for label in labels])\n",
    "\n",
    "    return Batch({\n",
    "        \"ids\": ids,\n",
    "        \"mask\": mask,\n",
    "        \"last_element\": last_element,\n",
    "        \"labels\": labels,\n",
    "    })\n",
    "\n",
    "val_dataloader = DataLoader(val_data, batch_size=16, shuffle=False, collate_fn=collate_fn)\n",
    "test_dataloader = DataLoader(val_data, batch_size=16, shuffle=False, collate_fn=collate_fn)"
   ]
  },
  {
   "cell_type": "code",
   "execution_count": 9,
   "metadata": {},
   "outputs": [
    {
     "data": {
      "application/vnd.jupyter.widget-view+json": {
       "model_id": "addbc06b43b6433a90613bdbb8ed1173",
       "version_major": 2,
       "version_minor": 0
      },
      "text/plain": [
       "  0%|          | 0/200000 [00:00<?, ?it/s]"
      ]
     },
     "metadata": {},
     "output_type": "display_data"
    }
   ],
   "source": [
    "num_rows = len(val_data)\n",
    "num_cols = 2**15\n",
    "\n",
    "data = []\n",
    "indices = []\n",
    "indptr = [0]\n",
    "\n",
    "states = np.empty((len(val_data), 96))\n",
    "predictions = []\n",
    "labels = []\n",
    "\n",
    "for i, (tokens, label) in enumerate(tqdm(val_data)):\n",
    "    tokens = tokens[:8192]\n",
    "\n",
    "    prediction, last_state = gru(tokens)\n",
    "    states[i, ...] = last_state.copy()\n",
    "    predictions.append(prediction)\n",
    "    labels.append(label.value - 1)\n",
    "\n",
    "    ids, counts = np.unique(tokens, return_counts=True)\n",
    "    data.extend(counts)\n",
    "    indices.extend(ids)\n",
    "    indptr.append(indptr[-1] + len(ids))\n",
    "\n",
    "predictions = np.array(predictions)\n",
    "labels = np.array(labels)\n",
    "\n",
    "sparse_data_matrix = csr_array((data, indices, indptr), shape=(num_rows, num_cols))\n",
    "save_npz(\"fold0_tf_gru_aligned.npz\", sparse_data_matrix)\n",
    "np.save(\"fold0_gru_states.npy\", states)\n",
    "\n",
    "np.save(\"fold0_gru_predictions.npy\", predictions)\n",
    "np.save(\"fold0_labels.npy\", labels)"
   ]
  },
  {
   "cell_type": "code",
   "execution_count": 43,
   "metadata": {},
   "outputs": [
    {
     "data": {
      "application/vnd.jupyter.widget-view+json": {
       "model_id": "08b418572d474313896a79bc37bed709",
       "version_major": 2,
       "version_minor": 0
      },
      "text/plain": [
       "  0%|          | 0/200000 [00:00<?, ?it/s]"
      ]
     },
     "metadata": {},
     "output_type": "display_data"
    }
   ],
   "source": [
    "num_rows = len(test_data)\n",
    "num_cols = 2**15\n",
    "\n",
    "data = []\n",
    "indices = []\n",
    "indptr = [0]\n",
    "\n",
    "states_test = np.empty((len(test_data), 96))\n",
    "predictions = []\n",
    "labels = []\n",
    "\n",
    "for i, (tokens, label) in enumerate(tqdm(test_data)):\n",
    "    tokens = tokens[:8192]\n",
    "\n",
    "    prediction, last_state = gru(tokens)\n",
    "    states_test[i, ...] = last_state.copy()\n",
    "    predictions.append(prediction)\n",
    "    labels.append(label.value - 1)\n",
    "\n",
    "    ids, counts = np.unique(tokens, return_counts=True)\n",
    "    data.extend(counts)\n",
    "    indices.extend(ids)\n",
    "    indptr.append(indptr[-1] + len(ids))\n",
    "\n",
    "predictions = np.array(predictions)\n",
    "labels = np.array(labels)\n",
    "\n",
    "sparse_data_matrix_test = csr_array((data, indices, indptr), shape=(num_rows, num_cols))\n",
    "save_npz(\"fold2_tf_gru_aligned.npz\", sparse_data_matrix_test)\n",
    "np.save(\"fold2_gru_states.npy\", states_test)\n",
    "\n",
    "np.save(\"fold2_gru_predictions.npy\", predictions)\n",
    "np.save(\"fold2_labels.npy\", labels)"
   ]
  },
  {
   "cell_type": "code",
   "execution_count": 44,
   "metadata": {},
   "outputs": [
    {
     "data": {
      "text/plain": [
       "array([70, 64,  0, ..., 98, 99, 95])"
      ]
     },
     "execution_count": 44,
     "metadata": {},
     "output_type": "execute_result"
    }
   ],
   "source": [
    "predictions"
   ]
  },
  {
   "cell_type": "code",
   "execution_count": 45,
   "metadata": {},
   "outputs": [
    {
     "data": {
      "text/plain": [
       "0.93744"
      ]
     },
     "execution_count": 45,
     "metadata": {},
     "output_type": "execute_result"
    }
   ],
   "source": [
    "(predictions == labels).mean()"
   ]
  },
  {
   "cell_type": "code",
   "execution_count": 46,
   "metadata": {},
   "outputs": [],
   "source": [
    "def normalize_sparse_mat(x):\n",
    "    row_sum = x.sum(axis=1)\n",
    "    x.data = x.data / np.repeat(row_sum, np.diff(x.indptr))\n",
    "    return x\n",
    "\n",
    "# train_data = normalize_sparse_mat(train_data)\n",
    "# sparse_data_matrix_test = normalize_sparse_mat(sparse_data_matrix_test)\n",
    "\n",
    "sparse_data_matrix_test = normalize_sparse_mat(sparse_data_matrix_test)"
   ]
  },
  {
   "cell_type": "code",
   "execution_count": 47,
   "metadata": {},
   "outputs": [],
   "source": [
    "states_sparse_test = csr_array(states_test)"
   ]
  },
  {
   "cell_type": "code",
   "execution_count": 48,
   "metadata": {},
   "outputs": [],
   "source": [
    "from scipy.sparse import hstack\n",
    "tf_and_states_test = hstack((sparse_data_matrix_test, states_sparse_test))"
   ]
  },
  {
   "cell_type": "code",
   "execution_count": 37,
   "metadata": {},
   "outputs": [
    {
     "data": {
      "image/png": "[encoded data removed]",
      "text/plain": [
       "<Figure size 432x288 with 1 Axes>"
      ]
     },
     "metadata": {
      "needs_background": "light"
     },
     "output_type": "display_data"
    }
   ],
   "source": [
    "plt.hist(states_sparse.data, bins=128);"
   ]
  },
  {
   "cell_type": "code",
   "execution_count": 36,
   "metadata": {},
   "outputs": [
    {
     "data": {
      "image/png": "[encoded data removed]",
      "text/plain": [
       "<Figure size 432x288 with 1 Axes>"
      ]
     },
     "metadata": {
      "needs_background": "light"
     },
     "output_type": "display_data"
    }
   ],
   "source": [
    "plt.hist(sparse_data_matrix.data, bins=128)\n",
    "plt.yscale(\"log\")"
   ]
  },
  {
   "cell_type": "code",
   "execution_count": 39,
   "metadata": {},
   "outputs": [
    {
     "data": {
      "image/png": "[encoded data removed]",
      "text/plain": [
       "<Figure size 432x288 with 1 Axes>"
      ]
     },
     "metadata": {
      "needs_background": "light"
     },
     "output_type": "display_data"
    }
   ],
   "source": [
    "plt.hist(tf_and_states.data, bins=128)\n",
    "plt.yscale(\"log\")"
   ]
  },
  {
   "cell_type": "code",
   "execution_count": null,
   "metadata": {},
   "outputs": [],
   "source": [
    "from sklearn.svm import LinearSVC\n",
    "\n",
    "svc = LinearSVC(C=10, fit_intercept=False, verbose=1)\n",
    "svc.fit(tf_and_states, labels)\n",
    "# np.save(\"svc_merger.npy\", svc, allow_pickle=True)\n",
    "import pickle\n",
    "with open(\"svc_merger.pkl\", \"wb\") as file:\n",
    "    pickle.dump(svc, file)"
   ]
  },
  {
   "cell_type": "code",
   "execution_count": 50,
   "metadata": {},
   "outputs": [],
   "source": [
    "final_predictions = svc.predict(tf_and_states_test)"
   ]
  },
  {
   "cell_type": "code",
   "execution_count": 51,
   "metadata": {},
   "outputs": [
    {
     "data": {
      "text/plain": [
       "0.939635"
      ]
     },
     "execution_count": 51,
     "metadata": {},
     "output_type": "execute_result"
    },
    {
     "ename": "",
     "evalue": "",
     "output_type": "error",
     "traceback": [
      "\u001b[1;31mThe Kernel crashed while executing code in the the current cell or a previous cell. Please review the code in the cell(s) to identify a possible cause of the failure. Click <a href='https://aka.ms/vscodeJupyterKernelCrash'>here</a> for more info. View Jupyter <a href='command:jupyter.viewOutput'>log</a> for further details."
     ]
    }
   ],
   "source": [
    "(final_predictions == labels).mean()"
   ]
  },
  {
   "cell_type": "code",
   "execution_count": null,
   "metadata": {},
   "outputs": [],
   "source": []
  },
  {
   "cell_type": "code",
   "execution_count": 12,
   "metadata": {},
   "outputs": [
    {
     "data": {
      "application/vnd.jupyter.widget-view+json": {
       "model_id": "0c7c5fc2dc404ac49ac704c593b4caba",
       "version_major": 2,
       "version_minor": 0
      },
      "text/plain": [
       "  0%|          | 0/200000 [00:00<?, ?it/s]"
      ]
     },
     "metadata": {},
     "output_type": "display_data"
    }
   ],
   "source": [
    "\n",
    "\n",
    "for i, (text, label) in enumerate(tqdm(val_data)):\n",
    "    prediction, last_state = gru(text)\n",
    "    states[i, ...] = last_state\n",
    "    predictions.append(prediction)\n",
    "    labels.append(label.value - 1)\n",
    "\n",
    "np.save(\"fold0_states.npy\", states)\n",
    "predictions = np.array(predictions)\n",
    "labels = np.array(labels)\n",
    "\n",
    "(predictions == labels).mean()"
   ]
  }
 ],
 "metadata": {
  "kernelspec": {
   "display_name": "Python 3",
   "language": "python",
   "name": "python3"
  },
  "language_info": {
   "codemirror_mode": {
    "name": "ipython",
    "version": 3
   },
   "file_extension": ".py",
   "mimetype": "text/x-python",
   "name": "python",
   "nbconvert_exporter": "python",
   "pygments_lexer": "ipython3",
   "version": "3.10.12"
  }
 },
 "nbformat": 4,
 "nbformat_minor": 2
}
