{
 "cells": [
  {
   "cell_type": "code",
   "execution_count": 19,
   "metadata": {},
   "outputs": [],
   "source": [
    "from datasets import load_dataset\n",
    "from pathlib import Path\n",
    "\n",
    "langs = [\n",
    "    'en', 'ar', 'zh-cn', 'zh-tw', 'nl', 'fr', 'de', 'it', 'ja', 'ko', 'pl', 'pt', \n",
    "    'ru', 'es', 'th', 'tr', 'bg', 'ca', 'cs', 'da', 'el', 'et', 'fa', 'fi', 'he', \n",
    "    'hi', 'hr', 'hu', 'id', 'lt', 'lv', 'ms', 'no', 'ro', 'sk', 'sl', 'sr', 'sv', \n",
    "    'tl', 'uk', 'vi'\n",
    "]"
   ]
  },
  {
   "cell_type": "code",
   "execution_count": 5,
   "metadata": {},
   "outputs": [
    {
     "name": "stderr",
     "output_type": "stream",
     "text": [
      "  0%|          | 0/12 [00:00<?, ?it/s]"
     ]
    },
    {
     "name": "stderr",
     "output_type": "stream",
     "text": [
      "100%|██████████| 1000/1000 [00:02<00:00, 443.95it/s]\n",
      "100%|██████████| 1000/1000 [00:02<00:00, 415.46it/s]\n",
      "100%|██████████| 1000/1000 [00:02<00:00, 395.36it/s]\n",
      "100%|██████████| 1000/1000 [00:02<00:00, 434.62it/s]\n",
      "100%|██████████| 1000/1000 [00:02<00:00, 384.16it/s]\n",
      "100%|██████████| 1000/1000 [00:02<00:00, 379.58it/s]\n",
      "100%|██████████| 1000/1000 [00:09<00:00, 106.57it/s]\n",
      "100%|██████████| 1000/1000 [00:02<00:00, 389.13it/s]\n",
      "100%|██████████| 1000/1000 [00:02<00:00, 419.65it/s]\n",
      "100%|██████████| 1000/1000 [00:02<00:00, 384.56it/s]\n",
      "100%|██████████| 1000/1000 [00:02<00:00, 402.54it/s]\n",
      "100%|██████████| 1000/1000 [00:02<00:00, 414.49it/s]\n",
      "100%|██████████| 12/12 [00:53<00:00,  4.45s/it]\n"
     ]
    }
   ],
   "source": [
    "from datasets import load_dataset\n",
    "import tqdm\n",
    "\n",
    "languages=[\"en\", \"fr\", \"es\", \"de\", \"zh\", \"ru\", \"hi\", \"id\", \"pt\", \"ar\", \"vi\", \"tr\"]\n",
    "\n",
    "samples = []\n",
    "\n",
    "for lang in tqdm.tqdm(languages):\n",
    "    dataset = load_dataset(\"mc4\", split=\"train\", languages=[lang], streaming=True)\n",
    "\n",
    "    for sample, _ in zip(dataset.shuffle(), tqdm.trange(1000)):\n",
    "        samples.append(sample)"
   ]
  },
  {
   "cell_type": "code",
   "execution_count": 36,
   "metadata": {},
   "outputs": [],
   "source": [
    "other = Path(\"github_data/Other\")\n",
    "other.mkdir(exist_ok=True)\n",
    "\n",
    "for i, sample in enumerate(samples):\n",
    "    (other / f\"{i:0>8}.txt\").write_text(sample[\"text\"])"
   ]
  },
  {
   "cell_type": "code",
   "execution_count": 29,
   "metadata": {},
   "outputs": [
    {
     "data": {
      "text/plain": [
       "'vi'"
      ]
     },
     "execution_count": 29,
     "metadata": {},
     "output_type": "execute_result"
    }
   ],
   "source": [
    "languages[10]"
   ]
  },
  {
   "cell_type": "code",
   "execution_count": 6,
   "metadata": {},
   "outputs": [
    {
     "data": {
      "text/plain": [
       "12000"
      ]
     },
     "execution_count": 6,
     "metadata": {},
     "output_type": "execute_result"
    }
   ],
   "source": [
    "len(samples)"
   ]
  },
  {
   "cell_type": "code",
   "execution_count": 33,
   "metadata": {},
   "outputs": [
    {
     "data": {
      "text/plain": [
       "{'text': \"http://www.torrid.com/product/gemstone-hanging-earrings/10665016.html\\n10665016\\nYou have the right to remain glamorous with these earrings. The hanging design sports a trifecta of femme-meets-flirty gemstones; from opaque to blush pink, to pavé settings, it's getting fabulous up in here.\\n;10515974|product4_rr;10724907|product4_rr;10625303|product4_rr;10723507|product4_rr;10633628|product4_rr;10829851|product4_rr;10830130|product4_rr;10816225|product4_rr;10817236|product4_rr;10838208|product4_rr\\n;10721344|product3_rr;10626224|product3_rr;10615763|product3_rr;10706024|product3_rr;10646594|product3_rr;10640667|product3_rr;10280191|product3_rr;10415244|product3_rr;10642366|product3_rr;10643037|product3_rr\",\n",
       " 'timestamp': '2017-06-28T00:07:31Z',\n",
       " 'url': 'http://www.torrid.com/product/gemstone-hanging-earrings/10665016.html'}"
      ]
     },
     "execution_count": 33,
     "metadata": {},
     "output_type": "execute_result"
    }
   ],
   "source": [
    "samples[0]"
   ]
  },
  {
   "cell_type": "code",
   "execution_count": 32,
   "metadata": {},
   "outputs": [
    {
     "name": "stdout",
     "output_type": "stream",
     "text": [
      "các anh ơi jup em với | HANDHELD VIETNAM\n",
      "các anh ơi jup em với\n",
      "Thread starter Chezt\n",
      "2 Tháng chín 2007 lúc 20:47\n",
      "Hiện nay em đang dùng con HTC hecmes tytn .nhưng mà khi em cắm vào pc qua USB thì nó đòi cái RNDIS, các anh có thể cho em bít nó là cái j ko và download ở đâu với .em đang cần gấp cảm ơn các anh trước\n",
      "2 Tháng chín 2007 lúc 20:57\n",
      "\"em\" đã cái Active Sync chưa\n",
      "2 Tháng chín 2007 lúc 21:02\n",
      "em cũng đọc qua là phải cài cái đấy nhưng mà ko bit phải làm sao dowl ở đâu :\"> về khoản này em gà lắm anh có thể nói rõ hơn đc ko ..anh cho em xin cái link downl nữa thì càng tốt ạh :\">\n",
      "2 Tháng chín 2007 lúc 21:06\n",
      "Chezt said:\n",
      "lên Microft search,Active Sync chỉ xài cho XP,còn với Win Vista thì bác search cái Window mobile device center gì đó em kô biết,vì em kô xài vista ,nhà nghèo dùng dc có win 95 thôi àh\n",
      "Link đây:http://www.4shared.com/file/3046218/deafb1bb/setup_active_sync_42.html?s=1\n",
      "2 Tháng chín 2007 lúc 22:25\n",
      "bản 4.2 cũ rồi bác ạh ,nhõ đâu người ta dùng wm6 thì PC nó kô nhận,lại lên hỏi nữa thì chít\n",
      "chả cần pho se hay pho sa gì hết\n",
      "2 Tháng chín 2007 lúc 22:40\n",
      "h chỉ cần cài cái này là pc nó nhận hả bác có cần cái j nưa hok\n",
      "2 Tháng chín 2007 lúc 22:42\n",
      "cần nhiều thứ nữa,nhiều lắm bác ạh\n",
      "2 Tháng chín 2007 lúc 22:45\n",
      "em thử downl mấy lần trên cái trang này rồi mà hok đc hình như phải đăng kí pho xe chư của bác kia lại hay )\n",
      "2 Tháng chín 2007 lúc 23:16\n",
      "bac oai em vẫn ko vào đc .hĩ bác có online cho em nick Y!m đi em muốn hỏi thêm 1 số thứ\n"
     ]
    }
   ],
   "source": [
    "print(samples[10009][\"text\"])"
   ]
  },
  {
   "cell_type": "code",
   "execution_count": 58,
   "metadata": {},
   "outputs": [
    {
     "data": {
      "text/plain": [
       "{'text': 'Christian Basics. Study 17\\nWhen Jesus announced the Good News of the Kingdom, he called on people to respond to his message in repentance and faith - \"repent and believe the gospel\". In this study we will look at the entry requirements of the Kingdom of God. We often think that getting on God\\'s right side is about doing the right thing - about moral behaviour. In this study we will learn of the one law which we must obey if we want to be saved. Salvation depends on no other. \"Believe on the Lord Jesus Christ and you shall be saved.\"\\nThe Bible tells us that the first step in deciding to follow Jesus is repentance. The word simply means a change in mind, attitude, outlook and direction - a turning around. Repentance is a turning from sin and self to God in Jesus 1Thes.1:9, 1Peter 2:25. What happens in repentance is that there is a real sense of sorrow for past sin - for ignoring God for so long - while at the same time a sense of looking to God for forgiveness. For sin to be forgiven, and therefore for a person to gain eternal life, it is necessary first and foremost to turn away from the old life and turn toward a new life in Jesus Christ. Lk.24:47, Act.2:38, 3:19, 5:31, 11:2, 2Cor.7:10.\\nOf course, not all Christians can pin-point a moment in their life when they turned to the Lord in repentance. Many of us just drift into the Christian faith. That\\'s quite acceptable. Pinpointing the actual moment when we turned to Jesus is not really important. What\\'s important is that today I can look into the face of Jesus and say \"Lord Jesus, you are my Saviour, for you have forgiven my sins.\"\\nThe Bible tells us that the second step in deciding to follow Jesus is faith. Faith means abandoning all trust in one\\'s own resources and casting oneself unconditionally on God - particularly on his promised mercy for all who seek it. It means relying completely on Jesus - on the sureness of his promises and the wisdom of his commands. Faith in Jesus particularly focuses on his sacrificial death and resurrection on our behalf. Faith is an act of trust at conversion and an attitude of trust throughout life. It is, in simple terms, a firmness or resting on the promises of God - a resting on his Word.\\ni] First and foremost faith is a response to Jesus\\' saving work on the cross and the empty tomb. Faith is the attitude of abandoning all reliance on our own efforts of gaining salvation by good and religious works, rather it is the attitude of completely trusting Jesus alone for our salvation. Act.16:30f, Jn.3:16.\\nii] Faith is acceptance of the truths about Jesus - that he is who he claims he is. Probably the word \"belief\" best describes this aspect of faith - e.g. \"I believe that Jesus is the Son of God\", i.e. \"to the best of my understanding, with all my doubts and fears, I have come to the conclusion that Jesus is the very presence of God with us\". Such a faith is a conviction that the Jesus of the Bible is true. Jn.8:24.\\niii] Faith is dependence on the person of Jesus. It is not just belief, but trusting a person, and that person is Jesus. So such a faith is not just intellectual assent but the expression of a deep personal bond with Jesus. The Bible uses words like \"being in Christ\", \"abiding in Christ\", Jn.15:4, to describe \"believing into Jesus\". Sure, it\\'s hard depending on someone you can\\'t see or touch, but faith is a leaning on the sense that Jesus is there and does care.\\niv] Faith is reliance upon the promises and commands of Jesus. It is a sure knowledge that Jesus will do all that he said he would do - he keeps his word. He said he would forgive me if I turn to him - faith is accepting him at his word. It is also a sure knowledge that obeying his commands is the best thing to do - even when it doesn\\'t seem that way. Faith implies complete reliance on Jesus.\\nThere are two points we need to make concerning faith:\\ni] You will hear many Christians say that faith is a gift of God. William Occum, a famous theologian, certainly pushed this point of view. It is true to say that faith is a gift in the sense that God is the author of all that makes us human. It is also true that the Holy Spirit strengthens the faith of a believer. Yet saving faith is nothing more than a simple response of trust. I have faith that my chair won\\'t collapse. Such a belief is based on an understanding of nature. Faith in Christ is a similar sort of thing. A person, lost and broken, calls out for help to the living God. They desire the one they do not know, but hope is there. The scriptures promise that \"he who seeks finds\". The seeker searches and God reveals. As the seeker relies (believes) on this self-revelation from God, so they move from darkness to light, from death to life.\\nii] Faith is not a once-only act of dependence upon Christ at conversion, rather it involves a life of dependence upon him. Faith is not a passing phase, it is a continuing attitude. From the moment we give our life to Jesus, we are to \"live by faith\".\\nHow does a person become committed to Jesus Christ? At the simplest level we only need to ask to be his friend. Yet it may help to expand this response a bit. There are four steps we can take. They are as simple as A, B, C (and D).\\ni] Admit\\nThe first step is to admit that we have ignored God and therefore need a Saviour. As the Bible puts it, we are all sinners. We have broken God\\'s laws, and not even lived up to our own ideals. Part of the seriousness of sin is that it separates us from God. God is all-holy and absolutely pure. He hates sin. He cannot dwell with it. He cannot even look at it. We are cut off. So (in biblical language) we need a Saviour. We cannot save ourselves. We must humbly and honestly admit this. Jesus said he had come to call not the righteous, but sinners to repentance\\nii] Believe\\nWe must believe that Jesus Christ is the Son of God who died on the cross and rose again on the third day to be the saviour of the world. This is about all we need to believe in order to become a Christian. Of course, there is much more to believe later. What we have to believe is:\\nThat Jesus of Nazareth is the Son of God, uniquely divine, who came down from heaven and became man.\\nThat he deliberately went to the cross to die for the sins of the world. He bore them in his own body. He \"was made sin for us\". In his immense love for us he took upon himself the penalty that our sins deserved.\\nThat as the perfect man, death could not contain him. On the third day he rose to life. Because he lives, we may live also. We do not need to fully understand either of these two truths. But we must believe the simple, straightforward facts of the gospel, that Jesus is the Son of God, who died and rose for us.\\niii] Consider\\nWe must consider this fact. If we commit our life to Jesus Christ, he will be our Lord as well as our Saviour. He makes demands as well as offers. He offers us salvation, but he demands our thoughtful and total commitment. If we receive Christ, it will mean a willingness to turn from everything we know to be wrong. He will become master of our ambitions and our career; master of our time, money and talents; master of every department of our life. This is what he asked of his disciples. This is what he asks of us. He told them, as he tells us, to count the cost of following him.\\niv] Do\\nThe first three steps have been in the mind, not the will. We are asked to agree with three facts - that we are a sinner, that the divine Christ died and rose for us, and that he wants to be our Lord as well as our Saviour. Not until now have we been asked to do anything. What is there to do? We may ask with the jailor in the prison at Philippi: \"What must I do to be saved?\" The answer is that we must receive Jesus Christ personally as our Saviour and Lord. It is not enough to intellectually believe that he died to be the Saviour of the world and rose to be the Lord of the Universe, we must ask him to be our Saviour and our Lord. It is this act of personal commitment which so many people miss. As Jesus said, \"I tell you the truth, anyone who will not receive the Kingdom of God like a little child will never enter it\", Mk.10:15.\\nYou may like to affirm your personal repentance and faith in Jesus by saying this prayer.\\n\"Lord Jesus Christ, I admit that I have ignored you. I have done, said and thought many wrong things. I turn from my life without you in repentance. I thank you for dying for me, for bearing my sins in your own body, for taking the penalty my sins deserved.\"\\n\"And now I open the door to you my risen Lord. Come in Lord Jesus. Come in as my Saviour to cleanse me. Come in as my Lord to take control of me. And with your strength I will follow you and serve you in fellowship with other Christians all the days of my life. Amen.\"',\n",
       " 'timestamp': '2018-05-28T01:20:58Z',\n",
       " 'url': 'http://www.lectionarystudies.com/parish/basics17.html'}"
      ]
     },
     "execution_count": 58,
     "metadata": {},
     "output_type": "execute_result"
    }
   ],
   "source": [
    "import numpy as np\n",
    "i = np.random.randint(len(samples))\n",
    "samples[i]"
   ]
  },
  {
   "cell_type": "code",
   "execution_count": null,
   "metadata": {},
   "outputs": [
    {
     "data": {
      "text/plain": [
       "Dataset({\n",
       "    features: ['id', 'url', 'title', 'text'],\n",
       "    num_rows: 205328\n",
       "})"
      ]
     },
     "execution_count": 12,
     "metadata": {},
     "output_type": "execute_result"
    }
   ],
   "source": [
    "dataset[\"train\"]"
   ]
  }
 ],
 "metadata": {
  "kernelspec": {
   "display_name": "Python 3",
   "language": "python",
   "name": "python3"
  },
  "language_info": {
   "codemirror_mode": {
    "name": "ipython",
    "version": 3
   },
   "file_extension": ".py",
   "mimetype": "text/x-python",
   "name": "python",
   "nbconvert_exporter": "python",
   "pygments_lexer": "ipython3",
   "version": "3.10.12"
  }
 },
 "nbformat": 4,
 "nbformat_minor": 2
}
