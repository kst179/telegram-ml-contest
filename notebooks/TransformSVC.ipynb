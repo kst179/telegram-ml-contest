{
 "cells": [
  {
   "cell_type": "code",
   "execution_count": 1,
   "metadata": {},
   "outputs": [],
   "source": [
    "import pickle\n",
    "import numpy as np\n",
    "\n",
    "from ctokenizer import CTokenizer\n",
    "from cgru import CGRU\n",
    "\n",
    "num_classes = 104\n",
    "num_tokens = 2**15\n",
    "gru_emb_dim = 96\n",
    "\n",
    "with open(\"artifacts/svc_merger.pkl\", \"rb\") as file:\n",
    "   svc = pickle.load(file)"
   ]
  },
  {
   "cell_type": "code",
   "execution_count": 10,
   "metadata": {},
   "outputs": [],
   "source": [
    "def normalize_sparse_mat(x):\n",
    "    row_sum = x.sum(axis=1)\n",
    "    x.data = x.data / np.repeat(row_sum, np.diff(x.indptr))\n",
    "    return x\n"
   ]
  },
  {
   "cell_type": "code",
   "execution_count": 59,
   "metadata": {},
   "outputs": [],
   "source": []
  },
  {
   "cell_type": "code",
   "execution_count": null,
   "metadata": {},
   "outputs": [],
   "source": []
  },
  {
   "cell_type": "code",
   "execution_count": 2,
   "metadata": {},
   "outputs": [],
   "source": [
    "from scipy.sparse import load_npz, save_npz, csr_array, hstack\n",
    "import numpy as np\n",
    "\n",
    "def split_mat(mat, split):\n",
    "    left_data = mat.data[mat.indices < split]\n",
    "    right_data = mat.data[mat.indices >= split]\n",
    "    left_indices = mat.indices[mat.indices < split]\n",
    "    right_indices = mat.indices[mat.indices >= split] - split\n",
    "\n",
    "    count_left, count_right = [0], [0]\n",
    "\n",
    "    for i in range(mat.shape[0]):\n",
    "        indcices = mat.indices[mat.indptr[i]:mat.indptr[i+1]]\n",
    "        count_left.append((indcices < split).sum())\n",
    "        count_right.append((indcices >= split).sum())\n",
    "\n",
    "    indptr_left = np.cumsum(count_left)\n",
    "    indptr_right = np.cumsum(count_right)\n",
    "\n",
    "    left = csr_array((left_data, left_indices, indptr_left), shape=(mat.shape[0], split))\n",
    "    right = csr_array((right_data, right_indices, indptr_right), shape=(mat.shape[0], mat.shape[1] - split))\n",
    "\n",
    "    return left, right\n",
    "\n",
    "def normalize_sparse_mat(x):\n",
    "    row_sum = x.sum(axis=1)\n",
    "    x.data = x.data / np.repeat(row_sum, np.diff(x.indptr))\n",
    "    return x\n",
    "\n",
    "mat = load_npz(\"artifacts/svc_val.npz\")\n",
    "mat = mat.tocsr()\n",
    "\n",
    "left, right = split_mat(mat, 2**15)\n",
    "del mat\n",
    "\n",
    "left = normalize_sparse_mat(left)\n",
    "mat = hstack((left, right))\n",
    "\n",
    "save_npz(\"artifacts/svc_val_norm.npz\", mat)\n"
   ]
  },
  {
   "cell_type": "code",
   "execution_count": 5,
   "metadata": {},
   "outputs": [
    {
     "data": {
      "text/plain": [
       "8.529913670037985e-05"
      ]
     },
     "execution_count": 5,
     "metadata": {},
     "output_type": "execute_result"
    }
   ],
   "source": [
    "mat.mean()"
   ]
  },
  {
   "cell_type": "code",
   "execution_count": 60,
   "metadata": {},
   "outputs": [
    {
     "ename": "",
     "evalue": "",
     "output_type": "error",
     "traceback": [
      "\u001b[1;31mThe Kernel crashed while executing code in the the current cell or a previous cell. Please review the code in the cell(s) to identify a possible cause of the failure. Click <a href='https://aka.ms/vscodeJupyterKernelCrash'>here</a> for more info. View Jupyter <a href='command:jupyter.viewOutput'>log</a> for further details."
     ]
    }
   ],
   "source": []
  },
  {
   "cell_type": "code",
   "execution_count": 16,
   "metadata": {},
   "outputs": [
    {
     "data": {
      "text/plain": [
       "<339578x32864 sparse matrix of type '<class 'numpy.float64'>'\n",
       "\twith 82855476 stored elements in Compressed Sparse Row format>"
      ]
     },
     "execution_count": 16,
     "metadata": {},
     "output_type": "execute_result"
    }
   ],
   "source": []
  },
  {
   "cell_type": "code",
   "execution_count": 18,
   "metadata": {},
   "outputs": [
    {
     "data": {
      "text/plain": [
       "array([    3,     7,    12, ..., 32861, 32862, 32863], dtype=int32)"
      ]
     },
     "execution_count": 18,
     "metadata": {},
     "output_type": "execute_result"
    }
   ],
   "source": []
  },
  {
   "cell_type": "code",
   "execution_count": null,
   "metadata": {},
   "outputs": [],
   "source": [
    "for data"
   ]
  },
  {
   "cell_type": "code",
   "execution_count": 1,
   "metadata": {},
   "outputs": [
    {
     "ename": "FileNotFoundError",
     "evalue": "[Errno 2] No such file or directory: 'artifacts/svc_labels.pkl'",
     "output_type": "error",
     "traceback": [
      "\u001b[0;31m---------------------------------------------------------------------------\u001b[0m",
      "\u001b[0;31mFileNotFoundError\u001b[0m                         Traceback (most recent call last)",
      "\u001b[1;32m/home/kst179/telegram-ml-contest/TransformSVC.ipynb Cell 11\u001b[0m line \u001b[0;36m1\n\u001b[1;32m      <a href='vscode-notebook-cell:/home/kst179/telegram-ml-contest/TransformSVC.ipynb#W4sZmlsZQ%3D%3D?line=6'>7</a>\u001b[0m train_labels \u001b[39m=\u001b[39m [label\u001b[39m.\u001b[39mvalue \u001b[39m-\u001b[39m \u001b[39m1\u001b[39m \u001b[39mfor\u001b[39;00m label \u001b[39min\u001b[39;00m train_data\u001b[39m.\u001b[39mlabels]\n\u001b[1;32m      <a href='vscode-notebook-cell:/home/kst179/telegram-ml-contest/TransformSVC.ipynb#W4sZmlsZQ%3D%3D?line=7'>8</a>\u001b[0m val_labels \u001b[39m=\u001b[39m [label\u001b[39m.\u001b[39mvalue \u001b[39m-\u001b[39m \u001b[39m1\u001b[39m \u001b[39mfor\u001b[39;00m label \u001b[39min\u001b[39;00m val_data\u001b[39m.\u001b[39mlabels]\n\u001b[0;32m---> <a href='vscode-notebook-cell:/home/kst179/telegram-ml-contest/TransformSVC.ipynb#W4sZmlsZQ%3D%3D?line=9'>10</a>\u001b[0m \u001b[39mwith\u001b[39;00m \u001b[39mopen\u001b[39;49m(\u001b[39m\"\u001b[39;49m\u001b[39martifacts/svc_labels.pkl\u001b[39;49m\u001b[39m\"\u001b[39;49m) \u001b[39mas\u001b[39;00m file:\n\u001b[1;32m     <a href='vscode-notebook-cell:/home/kst179/telegram-ml-contest/TransformSVC.ipynb#W4sZmlsZQ%3D%3D?line=10'>11</a>\u001b[0m     pickle\u001b[39m.\u001b[39mdump((train_labels, val_labels), file)\n",
      "File \u001b[0;32m~/.local/lib/python3.10/site-packages/IPython/core/interactiveshell.py:282\u001b[0m, in \u001b[0;36m_modified_open\u001b[0;34m(file, *args, **kwargs)\u001b[0m\n\u001b[1;32m    275\u001b[0m \u001b[39mif\u001b[39;00m file \u001b[39min\u001b[39;00m {\u001b[39m0\u001b[39m, \u001b[39m1\u001b[39m, \u001b[39m2\u001b[39m}:\n\u001b[1;32m    276\u001b[0m     \u001b[39mraise\u001b[39;00m \u001b[39mValueError\u001b[39;00m(\n\u001b[1;32m    277\u001b[0m         \u001b[39mf\u001b[39m\u001b[39m\"\u001b[39m\u001b[39mIPython won\u001b[39m\u001b[39m'\u001b[39m\u001b[39mt let you open fd=\u001b[39m\u001b[39m{\u001b[39;00mfile\u001b[39m}\u001b[39;00m\u001b[39m by default \u001b[39m\u001b[39m\"\u001b[39m\n\u001b[1;32m    278\u001b[0m         \u001b[39m\"\u001b[39m\u001b[39mas it is likely to crash IPython. If you know what you are doing, \u001b[39m\u001b[39m\"\u001b[39m\n\u001b[1;32m    279\u001b[0m         \u001b[39m\"\u001b[39m\u001b[39myou can use builtins\u001b[39m\u001b[39m'\u001b[39m\u001b[39m open.\u001b[39m\u001b[39m\"\u001b[39m\n\u001b[1;32m    280\u001b[0m     )\n\u001b[0;32m--> 282\u001b[0m \u001b[39mreturn\u001b[39;00m io_open(file, \u001b[39m*\u001b[39;49margs, \u001b[39m*\u001b[39;49m\u001b[39m*\u001b[39;49mkwargs)\n",
      "\u001b[0;31mFileNotFoundError\u001b[0m: [Errno 2] No such file or directory: 'artifacts/svc_labels.pkl'"
     ]
    }
   ],
   "source": [
    "from gh_dataset import GHDataset\n",
    "import pickle\n",
    "\n",
    "train_data = GHDataset(split=\"train_svc\")\n",
    "val_data = GHDataset(split=\"test\")\n",
    "\n",
    "train_labels = [label.value - 1 for label in train_data.labels]\n",
    "val_labels = [label.value - 1 for label in val_data.labels]"
   ]
  },
  {
   "cell_type": "code",
   "execution_count": null,
   "metadata": {},
   "outputs": [],
   "source": [
    "\n",
    "with open(\"artifacts/svc_labels.pkl\", \"wb\") as file:\n",
    "    pickle.dump((train_labels, val_labels), file)"
   ]
  },
  {
   "cell_type": "code",
   "execution_count": 4,
   "metadata": {},
   "outputs": [],
   "source": [
    "np.save(\"svc_train_val_labels.npy\", {\"train\": train_labels, \"val\": val_labels}, allow_pickle=True)"
   ]
  },
  {
   "cell_type": "code",
   "execution_count": 88,
   "metadata": {},
   "outputs": [],
   "source": [
    "tokenizer = CTokenizer()\n",
    "gru = CGRU()\n",
    "\n",
    "text = \"\"\"for i in range(100):\n",
    "    print(\"kek\")\"\"\"\n",
    "\n",
    "tokens = tokenizer(text)"
   ]
  },
  {
   "cell_type": "code",
   "execution_count": 89,
   "metadata": {},
   "outputs": [
    {
     "data": {
      "text/plain": [
       "'for i in range(100):\\n    print(\"kek\")'"
      ]
     },
     "execution_count": 89,
     "metadata": {},
     "output_type": "execute_result"
    }
   ],
   "source": [
    "text"
   ]
  },
  {
   "cell_type": "code",
   "execution_count": 90,
   "metadata": {},
   "outputs": [
    {
     "name": "stdout",
     "output_type": "stream",
     "text": [
      "[1065, 301, 321, 2456, 12, 1162, 917, 203, 262, 1196, 524, 464, 79, 576]\n"
     ]
    }
   ],
   "source": [
    "print(tokens)"
   ]
  },
  {
   "cell_type": "code",
   "execution_count": 92,
   "metadata": {},
   "outputs": [],
   "source": [
    "ids, counts = np.unique(tokens, return_counts=True)"
   ]
  },
  {
   "cell_type": "code",
   "execution_count": 93,
   "metadata": {},
   "outputs": [],
   "source": [
    "last_state = gru.get_last_state(tokens)\n",
    "\n",
    "x = np.zeros(2**15)\n",
    "x[ids] = counts\n",
    "x /= x.sum()\n",
    "\n",
    "x = np.hstack((x, last_state))"
   ]
  },
  {
   "cell_type": "code",
   "execution_count": 94,
   "metadata": {},
   "outputs": [
    {
     "data": {
      "text/plain": [
       "<Languages.PYTHON: 74>"
      ]
     },
     "execution_count": 94,
     "metadata": {},
     "output_type": "execute_result"
    }
   ],
   "source": [
    "Languages(svc.predict(x.reshape(1, -1)) + 1)"
   ]
  },
  {
   "cell_type": "code",
   "execution_count": 59,
   "metadata": {},
   "outputs": [
    {
     "data": {
      "text/plain": [
       "(104,)"
      ]
     },
     "execution_count": 59,
     "metadata": {},
     "output_type": "execute_result"
    }
   ],
   "source": [
    "(gru_features_weights @ last_state).shape"
   ]
  },
  {
   "cell_type": "code",
   "execution_count": 99,
   "metadata": {},
   "outputs": [],
   "source": [
    "score = token_weights[tokens].sum(axis=0)\n",
    "# score /= len(tokens)\n",
    "# score += gru_features_weights @ last_state"
   ]
  },
  {
   "cell_type": "code",
   "execution_count": 101,
   "metadata": {},
   "outputs": [
    {
     "data": {
      "text/plain": [
       "array([ 5.48500953e-01, -1.07822231e+01, -1.58333587e-01, -5.83662514e-01,\n",
       "        1.90037416e-03, -5.46997611e-01, -1.07822231e+01, -2.68381379e-01,\n",
       "       -3.40238533e-01, -2.01642212e+00, -2.03740512e+00,  8.89330039e-01,\n",
       "        1.79067743e+00,  1.47078896e+00,  2.08320156e-01, -2.16940025e+00,\n",
       "        6.80515389e-01, -2.69705338e-01,  2.52905594e-01,  2.19625976e+00,\n",
       "       -1.07822231e+01,  1.25748199e+00, -6.61646577e-01, -1.04252459e+00,\n",
       "        9.13284600e-01, -2.19535983e-01, -1.12414521e+00,  1.86940772e-01,\n",
       "        3.76554498e-02, -2.20717361e-01,  1.34327674e+00, -7.21737572e-01,\n",
       "       -2.15448030e+00, -1.07822231e+01, -3.20463681e-01, -2.12290299e+00,\n",
       "       -1.07822231e+01, -1.07822231e+01, -6.93930102e-01, -3.82528612e-01,\n",
       "       -4.58171088e-01, -3.89225255e-01, -1.29412178e+00, -2.07791780e+00,\n",
       "        1.74651458e+00, -1.07822231e+01, -8.45997495e-01, -5.55498250e-01,\n",
       "        2.38589548e-01, -2.65539825e+00,  5.81392997e-02, -7.48759484e-01,\n",
       "       -1.07822231e+01,  1.30989893e+00, -2.47539241e-01,  3.19823355e+00,\n",
       "       -1.07822231e+01,  6.11687354e-01,  1.91411631e+00, -1.85136444e+00,\n",
       "        4.04216467e+00, -8.08049142e-02,  5.13176233e-01, -1.23050960e+00,\n",
       "       -1.56797470e+00, -1.07822231e+01, -1.63394405e+00, -2.48500662e+00,\n",
       "       -8.19299311e-01, -1.07822231e+01,  3.18778458e-01, -1.04269982e+00,\n",
       "       -3.44796064e-01, -2.09045555e-01,  7.52435961e-02, -4.91615217e-01,\n",
       "        1.04717556e+00, -7.84218876e-01, -1.45343411e+00,  1.28804562e-01,\n",
       "       -5.15690747e-01,  4.84740695e-01, -1.44660038e-01,  2.68584109e+00,\n",
       "       -4.34821825e-01,  2.67498021e-03, -8.64502648e-01,  5.89032180e-01,\n",
       "       -6.70166241e-01, -8.22902040e-01, -7.97305333e-01, -1.06484576e+00,\n",
       "       -5.59753349e-01,  1.14130108e-01,  1.03704707e-01, -1.64527281e+00,\n",
       "       -1.22635091e+00, -7.69779856e-01,  7.22943154e-01, -1.89520596e+00,\n",
       "       -1.07822231e+01, -1.07822231e+01, -1.07822231e+01, -1.07822231e+01])"
      ]
     },
     "execution_count": 101,
     "metadata": {},
     "output_type": "execute_result"
    }
   ],
   "source": [
    "token_weights[1065]"
   ]
  },
  {
   "cell_type": "code",
   "execution_count": 100,
   "metadata": {},
   "outputs": [
    {
     "data": {
      "text/plain": [
       "array([ -10.26332766, -150.9511239 ,  -11.55078396,   -9.10363546,\n",
       "         -9.32637723,  -22.77868286, -150.9511239 ,   -4.94420063,\n",
       "         -9.20383207,  -28.02293762,  -17.5098908 ,  -13.28929685,\n",
       "         -9.8904597 ,  -20.04028608,   -9.18860458,  -21.73361308,\n",
       "        -13.77408641,  -12.68605762,  -11.768051  ,  -19.91190161,\n",
       "       -150.9511239 ,  -16.46717219,  -10.64813372,  -18.61917764,\n",
       "        -20.03647731,  -12.75203262,  -12.39543413,  -17.87998878,\n",
       "         -4.73554725,  -10.18622961,  -20.90926641,  -10.3586582 ,\n",
       "        -15.59625103, -150.9511239 ,  -12.94920233,  -16.18990732,\n",
       "       -150.9511239 , -150.9511239 ,  -10.44885423,  -17.81005333,\n",
       "         -7.00323279,   -9.6785614 ,  -12.69701738,  -18.99608558,\n",
       "        -11.26999844, -150.9511239 ,  -16.3356461 ,  -24.94287704,\n",
       "        -10.97731486,  -23.88760445,  -17.21532162,  -16.39572142,\n",
       "       -150.9511239 ,  -12.33756946,  -15.31289007,   -6.03186063,\n",
       "       -150.9511239 ,  -16.90670116,  -14.64769406,  -12.33648974,\n",
       "        -18.07576849,  -11.30110815,  -10.98460681,  -15.31268327,\n",
       "         -6.0744683 , -150.9511239 ,  -19.27738375,  -19.82244434,\n",
       "        -17.80375966, -150.9511239 ,  -19.932191  ,  -15.59273335,\n",
       "        -10.41287509,   -5.31417652,   -9.94672373,  -13.35430394,\n",
       "        -10.65281039,   -8.62251087,  -15.36128065,   -8.31672398,\n",
       "        -14.94369394,   -6.88489627,  -11.16174235,  -20.54637706,\n",
       "        -10.69638217,   -0.71910664,  -21.36455666,  -16.7141945 ,\n",
       "        -13.15258789,  -12.5520569 ,  -10.81606743,   -5.72414026,\n",
       "        -14.78436396,  -13.40586504,  -12.66762749,  -10.07083602,\n",
       "        -13.43951391,   -9.14203764,  -15.36952807,  -24.64305342,\n",
       "       -150.9511239 , -150.9511239 , -150.9511239 , -150.9511239 ])"
      ]
     },
     "execution_count": 100,
     "metadata": {},
     "output_type": "execute_result"
    }
   ],
   "source": [
    "score"
   ]
  },
  {
   "cell_type": "code",
   "execution_count": 98,
   "metadata": {},
   "outputs": [
    {
     "data": {
      "text/plain": [
       "73"
      ]
     },
     "execution_count": 98,
     "metadata": {},
     "output_type": "execute_result"
    }
   ],
   "source": [
    "score.argmax()"
   ]
  },
  {
   "cell_type": "code",
   "execution_count": 42,
   "metadata": {},
   "outputs": [
    {
     "data": {
      "text/plain": [
       "<Languages.PYTHON: 74>"
      ]
     },
     "execution_count": 42,
     "metadata": {},
     "output_type": "execute_result"
    }
   ],
   "source": [
    "from languages_list import Languages\n",
    "\n",
    "Languages(74)"
   ]
  },
  {
   "cell_type": "code",
   "execution_count": 45,
   "metadata": {},
   "outputs": [
    {
     "data": {
      "text/plain": [
       "array([ 0,  2,  3,  4,  5,  7,  8,  9, 10, 11, 12, 13, 14, 15, 16, 17, 18,\n",
       "       19, 21, 22, 23, 24, 25, 26, 27, 28, 29, 30, 31, 32, 34, 35, 38, 39,\n",
       "       40, 41, 42, 43, 44, 46, 47, 48, 49, 50, 51, 53, 54, 55, 57, 58, 59,\n",
       "       60, 61, 62, 63, 64, 66, 67, 68, 70, 71, 72, 73, 74, 75, 76, 77, 78,\n",
       "       79, 80, 81, 82, 83, 84, 85, 86, 87, 88, 89, 90, 91, 92, 93, 94, 95,\n",
       "       96, 97, 98, 99])"
      ]
     },
     "execution_count": 45,
     "metadata": {},
     "output_type": "execute_result"
    }
   ],
   "source": [
    "svc.classes_"
   ]
  },
  {
   "cell_type": "code",
   "execution_count": 2,
   "metadata": {},
   "outputs": [],
   "source": [
    "token_weights = np.ones((num_tokens, 104)) * svc.coef_.min()\n",
    "gru_features_weights = np.zeros((104, gru_emb_dim))\n",
    "\n",
    "token_weights[:, svc.classes_] = svc.coef_[:, :num_tokens].T\n",
    "gru_features_weights[svc.classes_] = svc.coef_[:, num_tokens:]"
   ]
  },
  {
   "cell_type": "code",
   "execution_count": 6,
   "metadata": {},
   "outputs": [
    {
     "data": {
      "text/plain": [
       "array([ 0.00000000e+00,  0.00000000e+00,  0.00000000e+00,  0.00000000e+00,\n",
       "        0.00000000e+00,  0.00000000e+00, -4.23516474e-21,  0.00000000e+00,\n",
       "        0.00000000e+00,  3.13402190e-19,  1.69406589e-21,  2.07523072e-20,\n",
       "       -3.69161185e-03, -7.46258204e-04,  0.00000000e+00,  0.00000000e+00,\n",
       "       -3.38813179e-21,  0.00000000e+00,  4.23516474e-20,  0.00000000e+00,\n",
       "        0.00000000e+00, -9.69789842e-03, -8.47032947e-22, -4.23516474e-22,\n",
       "       -2.54109884e-21,  0.00000000e+00,  2.03287907e-20,  0.00000000e+00,\n",
       "        0.00000000e+00,  0.00000000e+00,  0.00000000e+00, -2.20228566e-20,\n",
       "        0.00000000e+00,  0.00000000e+00,  0.00000000e+00,  0.00000000e+00,\n",
       "       -1.69406589e-20, -5.59041745e-20,  0.00000000e+00,  0.00000000e+00,\n",
       "        0.00000000e+00,  0.00000000e+00,  0.00000000e+00,  0.00000000e+00,\n",
       "        3.17637355e-21,  0.00000000e+00, -1.00702112e-06,  0.00000000e+00,\n",
       "        0.00000000e+00,  0.00000000e+00, -3.55753838e-20,  0.00000000e+00,\n",
       "       -1.82389953e-02,  0.00000000e+00,  1.43995601e-20, -1.24494349e-05,\n",
       "       -3.01653683e-06,  3.08268441e-02, -3.12093885e-02, -7.71164608e-06,\n",
       "       -6.41963643e-04,  0.00000000e+00,  0.00000000e+00,  0.00000000e+00,\n",
       "       -4.23516474e-22, -9.46336614e-03,  9.31736242e-21,  1.69406589e-21,\n",
       "       -4.65393061e-04,  0.00000000e+00,  0.00000000e+00,  0.00000000e+00,\n",
       "       -3.38813179e-21, -8.47032947e-22,  0.00000000e+00,  0.00000000e+00,\n",
       "        0.00000000e+00,  1.29172524e-20,  1.69406589e-21,  0.00000000e+00,\n",
       "        0.00000000e+00,  0.00000000e+00,  0.00000000e+00,  0.00000000e+00,\n",
       "        0.00000000e+00,  0.00000000e+00, -3.81164826e-21,  0.00000000e+00,\n",
       "        0.00000000e+00])"
      ]
     },
     "execution_count": 6,
     "metadata": {},
     "output_type": "execute_result"
    }
   ],
   "source": [
    "svc.coef_[:, 0]"
   ]
  },
  {
   "cell_type": "code",
   "execution_count": 3,
   "metadata": {},
   "outputs": [
    {
     "data": {
      "text/plain": [
       "array([ 0.00000000e+00, -1.07822231e+01,  0.00000000e+00,  0.00000000e+00,\n",
       "        0.00000000e+00,  0.00000000e+00, -1.07822231e+01,  0.00000000e+00,\n",
       "       -4.23516474e-21,  0.00000000e+00,  0.00000000e+00,  3.13402190e-19,\n",
       "        1.69406589e-21,  2.07523072e-20, -3.69161185e-03, -7.46258204e-04,\n",
       "        0.00000000e+00,  0.00000000e+00, -3.38813179e-21,  0.00000000e+00,\n",
       "       -1.07822231e+01,  4.23516474e-20,  0.00000000e+00,  0.00000000e+00,\n",
       "       -9.69789842e-03, -8.47032947e-22, -4.23516474e-22, -2.54109884e-21,\n",
       "        0.00000000e+00,  2.03287907e-20,  0.00000000e+00,  0.00000000e+00,\n",
       "        0.00000000e+00, -1.07822231e+01,  0.00000000e+00, -2.20228566e-20,\n",
       "       -1.07822231e+01, -1.07822231e+01,  0.00000000e+00,  0.00000000e+00,\n",
       "        0.00000000e+00,  0.00000000e+00, -1.69406589e-20, -5.59041745e-20,\n",
       "        0.00000000e+00, -1.07822231e+01,  0.00000000e+00,  0.00000000e+00,\n",
       "        0.00000000e+00,  0.00000000e+00,  0.00000000e+00,  3.17637355e-21,\n",
       "       -1.07822231e+01,  0.00000000e+00, -1.00702112e-06,  0.00000000e+00,\n",
       "       -1.07822231e+01,  0.00000000e+00,  0.00000000e+00, -3.55753838e-20,\n",
       "        0.00000000e+00, -1.82389953e-02,  0.00000000e+00,  1.43995601e-20,\n",
       "       -1.24494349e-05, -1.07822231e+01, -3.01653683e-06,  3.08268441e-02,\n",
       "       -3.12093885e-02, -1.07822231e+01, -7.71164608e-06, -6.41963643e-04,\n",
       "        0.00000000e+00,  0.00000000e+00,  0.00000000e+00, -4.23516474e-22,\n",
       "       -9.46336614e-03,  9.31736242e-21,  1.69406589e-21, -4.65393061e-04,\n",
       "        0.00000000e+00,  0.00000000e+00,  0.00000000e+00, -3.38813179e-21,\n",
       "       -8.47032947e-22,  0.00000000e+00,  0.00000000e+00,  0.00000000e+00,\n",
       "        1.29172524e-20,  1.69406589e-21,  0.00000000e+00,  0.00000000e+00,\n",
       "        0.00000000e+00,  0.00000000e+00,  0.00000000e+00,  0.00000000e+00,\n",
       "        0.00000000e+00, -3.81164826e-21,  0.00000000e+00,  0.00000000e+00,\n",
       "       -1.07822231e+01, -1.07822231e+01, -1.07822231e+01, -1.07822231e+01])"
      ]
     },
     "execution_count": 3,
     "metadata": {},
     "output_type": "execute_result"
    }
   ],
   "source": [
    "token_weights[0]"
   ]
  },
  {
   "cell_type": "code",
   "execution_count": 103,
   "metadata": {},
   "outputs": [],
   "source": [
    "with open(\"solution/resources/svc_weights.bin\", \"wb\") as file:\n",
    "    file.write(num_classes.to_bytes(length=4, byteorder=\"little\"))\n",
    "    file.write(num_tokens.to_bytes(length=4, byteorder=\"little\"))\n",
    "    file.write(gru_emb_dim.to_bytes(length=4, byteorder=\"little\"))\n",
    "\n",
    "    file.write(token_weights.astype(np.float32).tobytes())\n",
    "    file.write(gru_features_weights.astype(np.float32).tobytes())"
   ]
  }
 ],
 "metadata": {
  "kernelspec": {
   "display_name": "Python 3",
   "language": "python",
   "name": "python3"
  },
  "language_info": {
   "codemirror_mode": {
    "name": "ipython",
    "version": 3
   },
   "file_extension": ".py",
   "mimetype": "text/x-python",
   "name": "python",
   "nbconvert_exporter": "python",
   "pygments_lexer": "ipython3",
   "version": "3.10.12"
  }
 },
 "nbformat": 4,
 "nbformat_minor": 2
}
